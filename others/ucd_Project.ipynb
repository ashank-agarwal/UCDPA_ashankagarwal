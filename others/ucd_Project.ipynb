{
 "cells": [
  {
   "cell_type": "code",
   "execution_count": 1,
   "id": "c3abf1e7",
   "metadata": {},
   "outputs": [],
   "source": [
    "#!pip install numpy\n",
    "#!pip install pandas"
   ]
  },
  {
   "cell_type": "code",
   "execution_count": 4,
   "id": "8e781f47",
   "metadata": {},
   "outputs": [],
   "source": [
    "#!pip install matplotlib\n",
    "#!pip install seaborn\n",
    "#!pip install plotly"
   ]
  },
  {
   "cell_type": "code",
   "execution_count": 5,
   "id": "1513b91a",
   "metadata": {},
   "outputs": [],
   "source": [
    "#!pip install sklearn\n",
    "#!pip install xgboost"
   ]
  },
  {
   "cell_type": "code",
   "execution_count": 40,
   "id": "3740b18c",
   "metadata": {},
   "outputs": [
    {
     "name": "stdout",
     "output_type": "stream",
     "text": [
      "['raja@gmail.com', 'shaku@hotmail.com', 'sanjana@hotmaill.com', 'hjd@fil.com', 'kapil@reg.co.in', 'thisis@hyd.co.wz', '6666564556', '8889849845', 'sdfns@ghs.co.wz', '9121234678', '7720033871']\n"
     ]
    }
   ],
   "source": [
    "#Regex Demo as per examples in class\n",
    "#Finding valid email addresses and valid phone numbers (10 digits) from string of raw text snippets\n",
    "\n",
    "a = '''dfsdf;ldsf \n",
    "dfsdfksad'j;lj;;m,dlfdsn     raja@gmail.com asdsadajsna 565634 dfsd shaku@hotmail.com\n",
    "sanjana@hotmaill.com dfsdfs sdfsdnjn hjd@fil.com\n",
    "kapil@reg.co.in sdfsdfsn***8fdsdaz@com thisis@hyd.co.wz sdfs\n",
    "dsfsklkmlmwe @@ fdsysa66665645564our service  8889849845 ssw33q3\n",
    "sdfns@ghs.co.wz 9121234678dfsslklfsfs77200338715\n",
    "'''\n",
    "\n",
    "out=re.findall(\"\\w+\\@\\w+\\.\\w+\\.?\\w+\\.?|\\d{10}\",a)\n",
    "print(out)"
   ]
  },
  {
   "cell_type": "code",
   "execution_count": 19,
   "id": "728b589a",
   "metadata": {},
   "outputs": [
    {
     "name": "stdout",
     "output_type": "stream",
     "text": [
      "       39          State-gov   77516    Bachelors   13        Never-married  \\\n",
      "0      50   Self-emp-not-inc   83311    Bachelors   13   Married-civ-spouse   \n",
      "1      38            Private  215646      HS-grad    9             Divorced   \n",
      "2      53            Private  234721         11th    7   Married-civ-spouse   \n",
      "3      28            Private  338409    Bachelors   13   Married-civ-spouse   \n",
      "4      37            Private  284582      Masters   14   Married-civ-spouse   \n",
      "...    ..                ...     ...          ...  ...                  ...   \n",
      "32555  27            Private  257302   Assoc-acdm   12   Married-civ-spouse   \n",
      "32556  40            Private  154374      HS-grad    9   Married-civ-spouse   \n",
      "32557  58            Private  151910      HS-grad    9              Widowed   \n",
      "32558  22            Private  201490      HS-grad    9        Never-married   \n",
      "32559  52       Self-emp-inc  287927      HS-grad    9   Married-civ-spouse   \n",
      "\n",
      "             Adm-clerical   Not-in-family   White     Male   2174   0   40  \\\n",
      "0         Exec-managerial         Husband   White     Male      0   0   13   \n",
      "1       Handlers-cleaners   Not-in-family   White     Male      0   0   40   \n",
      "2       Handlers-cleaners         Husband   Black     Male      0   0   40   \n",
      "3          Prof-specialty            Wife   Black   Female      0   0   40   \n",
      "4         Exec-managerial            Wife   White   Female      0   0   40   \n",
      "...                   ...             ...     ...      ...    ...  ..  ...   \n",
      "32555        Tech-support            Wife   White   Female      0   0   38   \n",
      "32556   Machine-op-inspct         Husband   White     Male      0   0   40   \n",
      "32557        Adm-clerical       Unmarried   White   Female      0   0   40   \n",
      "32558        Adm-clerical       Own-child   White     Male      0   0   20   \n",
      "32559     Exec-managerial            Wife   White   Female  15024   0   40   \n",
      "\n",
      "        United-States   <=50K  \n",
      "0       United-States   <=50K  \n",
      "1       United-States   <=50K  \n",
      "2       United-States   <=50K  \n",
      "3                Cuba   <=50K  \n",
      "4       United-States   <=50K  \n",
      "...               ...     ...  \n",
      "32555   United-States   <=50K  \n",
      "32556   United-States    >50K  \n",
      "32557   United-States   <=50K  \n",
      "32558   United-States   <=50K  \n",
      "32559   United-States    >50K  \n",
      "\n",
      "[32560 rows x 15 columns]\n"
     ]
    }
   ],
   "source": [
    "df_vaci = pd.read_csv(\"Dataset/vh_data15.csv\")\n",
    "df_vaci.head()\n",
    "\n",
    "df_adult = pd.read_csv(\"Dataset/adult.csv\")\n",
    "df_adult.head()\n",
    "print (df_adult)"
   ]
  },
  {
   "cell_type": "code",
   "execution_count": null,
   "id": "3dff4e4b",
   "metadata": {},
   "outputs": [],
   "source": []
  },
  {
   "cell_type": "code",
   "execution_count": 16,
   "id": "0b8893ec",
   "metadata": {},
   "outputs": [
    {
     "data": {
      "text/plain": [
       "Index(['39', ' State-gov', ' 77516', ' Bachelors', ' 13', ' Never-married',\n",
       "       ' Adm-clerical', ' Not-in-family', ' White', ' Male', ' 2174', ' 0',\n",
       "       ' 40', ' United-States', ' <=50K'],\n",
       "      dtype='object')"
      ]
     },
     "execution_count": 16,
     "metadata": {},
     "output_type": "execute_result"
    }
   ],
   "source": [
    "df_vaci.columns\n",
    "df_adult.columns"
   ]
  },
  {
   "cell_type": "code",
   "execution_count": 10,
   "id": "a6b8774c",
   "metadata": {},
   "outputs": [
    {
     "name": "stdout",
     "output_type": "stream",
     "text": [
      "<class 'pandas.core.frame.DataFrame'>\n",
      "RangeIndex: 3353 entries, 0 to 3352\n",
      "Data columns (total 42 columns):\n",
      " #   Column                     Non-Null Count  Dtype  \n",
      "---  ------                     --------------  -----  \n",
      " 0   County_Density             3336 non-null   float64\n",
      " 1   Vaccine_Trust_Index        3353 non-null   float64\n",
      " 2   Personal_Responsibility    3347 non-null   float64\n",
      " 3   Trust_Science_Apolitical   3344 non-null   float64\n",
      " 4   Trust_Science_Politicians  3345 non-null   float64\n",
      " 5   Trust_Science_Media        3346 non-null   float64\n",
      " 6   Trust_Science_Community    3346 non-null   float64\n",
      " 7   Trust_National             3349 non-null   float64\n",
      " 8   Trust_State                3349 non-null   float64\n",
      " 9   Trust_Local                3351 non-null   float64\n",
      " 10  Trust_Media                3352 non-null   float64\n",
      " 11  Perceived_Risk             3349 non-null   float64\n",
      " 12  Perceived_Network_Risk     3348 non-null   float64\n",
      " 13  Doctor_Comfort             3348 non-null   float64\n",
      " 14  Fear_Needles               3349 non-null   float64\n",
      " 15  Condition_Pregnancy        3252 non-null   float64\n",
      " 16  Condition_Asthma           3252 non-null   float64\n",
      " 17  Condition_Lung             3252 non-null   float64\n",
      " 18  Condition_Diabetes         3252 non-null   float64\n",
      " 19  Condition_Immune           3252 non-null   float64\n",
      " 20  Condition_Obesity          3252 non-null   float64\n",
      " 21  Condition_Heart            3252 non-null   float64\n",
      " 22  Condition_Organ            3252 non-null   float64\n",
      " 23  County_Cases               3336 non-null   float64\n",
      " 24  County_Cases2wk            3336 non-null   float64\n",
      " 25  Male                       3353 non-null   int64  \n",
      " 26  Race                       3353 non-null   int64  \n",
      " 27  Age                        3351 non-null   float64\n",
      " 28  PS_Index                   3353 non-null   float64\n",
      " 29  Natural_Science_Literacy   3352 non-null   float64\n",
      " 30  College_Degree             3352 non-null   float64\n",
      " 31  Pandemic_Impact            3348 non-null   float64\n",
      " 32  Pandemic_Impact_Network    3347 non-null   float64\n",
      " 33  Infected_Personal          3311 non-null   float64\n",
      " 34  Infected_Network           3352 non-null   float64\n",
      " 35  Biden                      3349 non-null   object \n",
      " 36  Trump                      3348 non-null   object \n",
      " 37  Party_ID                   3352 non-null   object \n",
      " 38  Household_Income           3348 non-null   float64\n",
      " 39  Vaccine_Required           3353 non-null   int64  \n",
      " 40  Evangelical                3352 non-null   float64\n",
      " 41  Vaccine_Hesitant           3353 non-null   int64  \n",
      "dtypes: float64(35), int64(4), object(3)\n",
      "memory usage: 1.1+ MB\n"
     ]
    }
   ],
   "source": [
    "df_vaci.info()"
   ]
  },
  {
   "cell_type": "code",
   "execution_count": 11,
   "id": "cf19877e",
   "metadata": {},
   "outputs": [
    {
     "data": {
      "text/html": [
       "        <script type=\"text/javascript\">\n",
       "        window.PlotlyConfig = {MathJaxConfig: 'local'};\n",
       "        if (window.MathJax && window.MathJax.Hub && window.MathJax.Hub.Config) {window.MathJax.Hub.Config({SVG: {font: \"STIX-Web\"}});}\n",
       "        if (typeof require !== 'undefined') {\n",
       "        require.undef(\"plotly\");\n",
       "        requirejs.config({\n",
       "            paths: {\n",
       "                'plotly': ['https://cdn.plot.ly/plotly-2.16.1.min']\n",
       "            }\n",
       "        });\n",
       "        require(['plotly'], function(Plotly) {\n",
       "            window._Plotly = Plotly;\n",
       "        });\n",
       "        }\n",
       "        </script>\n",
       "        "
      ]
     },
     "metadata": {},
     "output_type": "display_data"
    }
   ],
   "source": [
    "import numpy as np\n",
    "import pandas as pd\n",
    "import matplotlib.pyplot as plt\n",
    "import seaborn as sns\n",
    "import re\n",
    "\n",
    "from plotly.offline import init_notebook_mode, iplot \n",
    "import plotly.graph_objects as go\n",
    "import plotly.offline as py\n",
    "import plotly.express as px\n",
    "\n",
    "py.init_notebook_mode(connected=True)\n",
    "sns.set()\n",
    "\n",
    "from sklearn.preprocessing import StandardScaler\n",
    "from sklearn.utils import resample\n",
    "from sklearn.ensemble import RandomForestClassifier\n",
    "from sklearn.model_selection import cross_val_score,train_test_split\n",
    "\n",
    "# Plot should appear inside the jupyter notebook\n",
    "%matplotlib inline"
   ]
  },
  {
   "cell_type": "markdown",
   "id": "8c751e65",
   "metadata": {},
   "source": [
    "Analysis of imported datasets\n",
    "Checking first 5 records of adult_income dataset."
   ]
  },
  {
   "cell_type": "code",
   "execution_count": 22,
   "id": "07ad9771",
   "metadata": {
    "scrolled": true
   },
   "outputs": [
    {
     "data": {
      "text/html": [
       "<div>\n",
       "<style scoped>\n",
       "    .dataframe tbody tr th:only-of-type {\n",
       "        vertical-align: middle;\n",
       "    }\n",
       "\n",
       "    .dataframe tbody tr th {\n",
       "        vertical-align: top;\n",
       "    }\n",
       "\n",
       "    .dataframe thead th {\n",
       "        text-align: right;\n",
       "    }\n",
       "</style>\n",
       "<table border=\"1\" class=\"dataframe\">\n",
       "  <thead>\n",
       "    <tr style=\"text-align: right;\">\n",
       "      <th></th>\n",
       "      <th>County_Density</th>\n",
       "      <th>Vaccine_Trust_Index</th>\n",
       "      <th>Personal_Responsibility</th>\n",
       "      <th>Trust_Science_Apolitical</th>\n",
       "      <th>Trust_Science_Politicians</th>\n",
       "      <th>Trust_Science_Media</th>\n",
       "      <th>Trust_Science_Community</th>\n",
       "      <th>Trust_National</th>\n",
       "      <th>Trust_State</th>\n",
       "      <th>Trust_Local</th>\n",
       "      <th>...</th>\n",
       "      <th>Pandemic_Impact_Network</th>\n",
       "      <th>Infected_Personal</th>\n",
       "      <th>Infected_Network</th>\n",
       "      <th>Biden</th>\n",
       "      <th>Trump</th>\n",
       "      <th>Party_ID</th>\n",
       "      <th>Household_Income</th>\n",
       "      <th>Vaccine_Required</th>\n",
       "      <th>Evangelical</th>\n",
       "      <th>Vaccine_Hesitant</th>\n",
       "    </tr>\n",
       "  </thead>\n",
       "  <tbody>\n",
       "    <tr>\n",
       "      <th>0</th>\n",
       "      <td>137.851795</td>\n",
       "      <td>0.000000</td>\n",
       "      <td>10.0</td>\n",
       "      <td>5.0</td>\n",
       "      <td>5.0</td>\n",
       "      <td>5.0</td>\n",
       "      <td>5.0</td>\n",
       "      <td>5.0</td>\n",
       "      <td>5.0</td>\n",
       "      <td>5.0</td>\n",
       "      <td>...</td>\n",
       "      <td>0.0</td>\n",
       "      <td>0.0</td>\n",
       "      <td>0.0</td>\n",
       "      <td>No</td>\n",
       "      <td>Yes</td>\n",
       "      <td>Republican</td>\n",
       "      <td>1.0</td>\n",
       "      <td>0</td>\n",
       "      <td>1.0</td>\n",
       "      <td>1</td>\n",
       "    </tr>\n",
       "    <tr>\n",
       "      <th>1</th>\n",
       "      <td>38.751406</td>\n",
       "      <td>9.000000</td>\n",
       "      <td>5.0</td>\n",
       "      <td>8.0</td>\n",
       "      <td>4.0</td>\n",
       "      <td>6.0</td>\n",
       "      <td>9.0</td>\n",
       "      <td>8.0</td>\n",
       "      <td>2.0</td>\n",
       "      <td>7.0</td>\n",
       "      <td>...</td>\n",
       "      <td>5.0</td>\n",
       "      <td>0.0</td>\n",
       "      <td>0.0</td>\n",
       "      <td>Yes</td>\n",
       "      <td>No</td>\n",
       "      <td>Democrat</td>\n",
       "      <td>3.0</td>\n",
       "      <td>0</td>\n",
       "      <td>0.0</td>\n",
       "      <td>0</td>\n",
       "    </tr>\n",
       "    <tr>\n",
       "      <th>2</th>\n",
       "      <td>18.103752</td>\n",
       "      <td>8.666667</td>\n",
       "      <td>7.0</td>\n",
       "      <td>6.0</td>\n",
       "      <td>1.0</td>\n",
       "      <td>1.0</td>\n",
       "      <td>6.0</td>\n",
       "      <td>7.0</td>\n",
       "      <td>7.0</td>\n",
       "      <td>9.0</td>\n",
       "      <td>...</td>\n",
       "      <td>6.0</td>\n",
       "      <td>0.0</td>\n",
       "      <td>1.0</td>\n",
       "      <td>No</td>\n",
       "      <td>Yes</td>\n",
       "      <td>Republican</td>\n",
       "      <td>6.0</td>\n",
       "      <td>0</td>\n",
       "      <td>0.0</td>\n",
       "      <td>0</td>\n",
       "    </tr>\n",
       "    <tr>\n",
       "      <th>3</th>\n",
       "      <td>26.912917</td>\n",
       "      <td>4.000000</td>\n",
       "      <td>7.0</td>\n",
       "      <td>6.0</td>\n",
       "      <td>6.0</td>\n",
       "      <td>4.0</td>\n",
       "      <td>6.0</td>\n",
       "      <td>6.0</td>\n",
       "      <td>6.0</td>\n",
       "      <td>6.0</td>\n",
       "      <td>...</td>\n",
       "      <td>7.0</td>\n",
       "      <td>0.0</td>\n",
       "      <td>0.0</td>\n",
       "      <td>Yes</td>\n",
       "      <td>No</td>\n",
       "      <td>Democrat</td>\n",
       "      <td>4.0</td>\n",
       "      <td>0</td>\n",
       "      <td>1.0</td>\n",
       "      <td>1</td>\n",
       "    </tr>\n",
       "    <tr>\n",
       "      <th>4</th>\n",
       "      <td>1541.026670</td>\n",
       "      <td>7.000000</td>\n",
       "      <td>6.0</td>\n",
       "      <td>6.0</td>\n",
       "      <td>1.0</td>\n",
       "      <td>2.0</td>\n",
       "      <td>6.0</td>\n",
       "      <td>6.0</td>\n",
       "      <td>2.0</td>\n",
       "      <td>7.0</td>\n",
       "      <td>...</td>\n",
       "      <td>2.5</td>\n",
       "      <td>0.0</td>\n",
       "      <td>1.0</td>\n",
       "      <td>Yes</td>\n",
       "      <td>Yes</td>\n",
       "      <td>Republican</td>\n",
       "      <td>3.0</td>\n",
       "      <td>0</td>\n",
       "      <td>1.0</td>\n",
       "      <td>0</td>\n",
       "    </tr>\n",
       "  </tbody>\n",
       "</table>\n",
       "<p>5 rows × 42 columns</p>\n",
       "</div>"
      ],
      "text/plain": [
       "   County_Density  Vaccine_Trust_Index  Personal_Responsibility  \\\n",
       "0      137.851795             0.000000                     10.0   \n",
       "1       38.751406             9.000000                      5.0   \n",
       "2       18.103752             8.666667                      7.0   \n",
       "3       26.912917             4.000000                      7.0   \n",
       "4     1541.026670             7.000000                      6.0   \n",
       "\n",
       "   Trust_Science_Apolitical  Trust_Science_Politicians  Trust_Science_Media  \\\n",
       "0                       5.0                        5.0                  5.0   \n",
       "1                       8.0                        4.0                  6.0   \n",
       "2                       6.0                        1.0                  1.0   \n",
       "3                       6.0                        6.0                  4.0   \n",
       "4                       6.0                        1.0                  2.0   \n",
       "\n",
       "   Trust_Science_Community  Trust_National  Trust_State  Trust_Local  ...  \\\n",
       "0                      5.0             5.0          5.0          5.0  ...   \n",
       "1                      9.0             8.0          2.0          7.0  ...   \n",
       "2                      6.0             7.0          7.0          9.0  ...   \n",
       "3                      6.0             6.0          6.0          6.0  ...   \n",
       "4                      6.0             6.0          2.0          7.0  ...   \n",
       "\n",
       "   Pandemic_Impact_Network  Infected_Personal  Infected_Network  Biden  Trump  \\\n",
       "0                      0.0                0.0               0.0     No    Yes   \n",
       "1                      5.0                0.0               0.0    Yes     No   \n",
       "2                      6.0                0.0               1.0     No    Yes   \n",
       "3                      7.0                0.0               0.0    Yes     No   \n",
       "4                      2.5                0.0               1.0    Yes    Yes   \n",
       "\n",
       "     Party_ID  Household_Income  Vaccine_Required  Evangelical  \\\n",
       "0  Republican               1.0                 0          1.0   \n",
       "1    Democrat               3.0                 0          0.0   \n",
       "2  Republican               6.0                 0          0.0   \n",
       "3    Democrat               4.0                 0          1.0   \n",
       "4  Republican               3.0                 0          1.0   \n",
       "\n",
       "   Vaccine_Hesitant  \n",
       "0                 1  \n",
       "1                 0  \n",
       "2                 0  \n",
       "3                 1  \n",
       "4                 0  \n",
       "\n",
       "[5 rows x 42 columns]"
      ]
     },
     "execution_count": 22,
     "metadata": {},
     "output_type": "execute_result"
    }
   ],
   "source": [
    "df_vaci.head()"
   ]
  },
  {
   "cell_type": "markdown",
   "id": "f82f8be8",
   "metadata": {},
   "source": [
    "Checking count of rows and columns in adult_income dataset."
   ]
  },
  {
   "cell_type": "code",
   "execution_count": 23,
   "id": "d188cf63",
   "metadata": {},
   "outputs": [
    {
     "name": "stdout",
     "output_type": "stream",
     "text": [
      "Dataset 'df_vaci' has 3353 rows and 42 columns.\n"
     ]
    }
   ],
   "source": [
    "print(\"Dataset 'df_vaci' has {} rows and {} columns.\".format(df_vaci.shape[0],df_vaci.shape[1]))"
   ]
  },
  {
   "cell_type": "markdown",
   "id": "61267da8",
   "metadata": {},
   "source": [
    "Checking columns data type and other details of adult_income dataframe"
   ]
  },
  {
   "cell_type": "code",
   "execution_count": 24,
   "id": "e2add3f4",
   "metadata": {},
   "outputs": [
    {
     "name": "stdout",
     "output_type": "stream",
     "text": [
      "<class 'pandas.core.frame.DataFrame'>\n",
      "RangeIndex: 3353 entries, 0 to 3352\n",
      "Data columns (total 42 columns):\n",
      " #   Column                     Non-Null Count  Dtype  \n",
      "---  ------                     --------------  -----  \n",
      " 0   County_Density             3336 non-null   float64\n",
      " 1   Vaccine_Trust_Index        3353 non-null   float64\n",
      " 2   Personal_Responsibility    3347 non-null   float64\n",
      " 3   Trust_Science_Apolitical   3344 non-null   float64\n",
      " 4   Trust_Science_Politicians  3345 non-null   float64\n",
      " 5   Trust_Science_Media        3346 non-null   float64\n",
      " 6   Trust_Science_Community    3346 non-null   float64\n",
      " 7   Trust_National             3349 non-null   float64\n",
      " 8   Trust_State                3349 non-null   float64\n",
      " 9   Trust_Local                3351 non-null   float64\n",
      " 10  Trust_Media                3352 non-null   float64\n",
      " 11  Perceived_Risk             3349 non-null   float64\n",
      " 12  Perceived_Network_Risk     3348 non-null   float64\n",
      " 13  Doctor_Comfort             3348 non-null   float64\n",
      " 14  Fear_Needles               3349 non-null   float64\n",
      " 15  Condition_Pregnancy        3252 non-null   float64\n",
      " 16  Condition_Asthma           3252 non-null   float64\n",
      " 17  Condition_Lung             3252 non-null   float64\n",
      " 18  Condition_Diabetes         3252 non-null   float64\n",
      " 19  Condition_Immune           3252 non-null   float64\n",
      " 20  Condition_Obesity          3252 non-null   float64\n",
      " 21  Condition_Heart            3252 non-null   float64\n",
      " 22  Condition_Organ            3252 non-null   float64\n",
      " 23  County_Cases               3336 non-null   float64\n",
      " 24  County_Cases2wk            3336 non-null   float64\n",
      " 25  Male                       3353 non-null   int64  \n",
      " 26  Race                       3353 non-null   int64  \n",
      " 27  Age                        3351 non-null   float64\n",
      " 28  PS_Index                   3353 non-null   float64\n",
      " 29  Natural_Science_Literacy   3352 non-null   float64\n",
      " 30  College_Degree             3352 non-null   float64\n",
      " 31  Pandemic_Impact            3348 non-null   float64\n",
      " 32  Pandemic_Impact_Network    3347 non-null   float64\n",
      " 33  Infected_Personal          3311 non-null   float64\n",
      " 34  Infected_Network           3352 non-null   float64\n",
      " 35  Biden                      3349 non-null   object \n",
      " 36  Trump                      3348 non-null   object \n",
      " 37  Party_ID                   3352 non-null   object \n",
      " 38  Household_Income           3348 non-null   float64\n",
      " 39  Vaccine_Required           3353 non-null   int64  \n",
      " 40  Evangelical                3352 non-null   float64\n",
      " 41  Vaccine_Hesitant           3353 non-null   int64  \n",
      "dtypes: float64(35), int64(4), object(3)\n",
      "memory usage: 1.1+ MB\n"
     ]
    }
   ],
   "source": [
    "df_vaci.info()"
   ]
  },
  {
   "cell_type": "code",
   "execution_count": 25,
   "id": "affe413e",
   "metadata": {},
   "outputs": [
    {
     "data": {
      "text/plain": [
       "True"
      ]
     },
     "execution_count": 25,
     "metadata": {},
     "output_type": "execute_result"
    }
   ],
   "source": [
    "#Check for null values\n",
    "df_vaci.isnull().values.any()"
   ]
  },
  {
   "cell_type": "code",
   "execution_count": 27,
   "id": "bebf7484",
   "metadata": {},
   "outputs": [
    {
     "data": {
      "text/plain": [
       "County_Density                17\n",
       "Vaccine_Trust_Index            0\n",
       "Personal_Responsibility        6\n",
       "Trust_Science_Apolitical       9\n",
       "Trust_Science_Politicians      8\n",
       "Trust_Science_Media            7\n",
       "Trust_Science_Community        7\n",
       "Trust_National                 4\n",
       "Trust_State                    4\n",
       "Trust_Local                    2\n",
       "Trust_Media                    1\n",
       "Perceived_Risk                 4\n",
       "Perceived_Network_Risk         5\n",
       "Doctor_Comfort                 5\n",
       "Fear_Needles                   4\n",
       "Condition_Pregnancy          101\n",
       "Condition_Asthma             101\n",
       "Condition_Lung               101\n",
       "Condition_Diabetes           101\n",
       "Condition_Immune             101\n",
       "Condition_Obesity            101\n",
       "Condition_Heart              101\n",
       "Condition_Organ              101\n",
       "County_Cases                  17\n",
       "County_Cases2wk               17\n",
       "Male                           0\n",
       "Race                           0\n",
       "Age                            2\n",
       "PS_Index                       0\n",
       "Natural_Science_Literacy       1\n",
       "College_Degree                 1\n",
       "Pandemic_Impact                5\n",
       "Pandemic_Impact_Network        6\n",
       "Infected_Personal             42\n",
       "Infected_Network               1\n",
       "Biden                          4\n",
       "Trump                          5\n",
       "Party_ID                       1\n",
       "Household_Income               5\n",
       "Vaccine_Required               0\n",
       "Evangelical                    1\n",
       "Vaccine_Hesitant               0\n",
       "dtype: int64"
      ]
     },
     "execution_count": 27,
     "metadata": {},
     "output_type": "execute_result"
    }
   ],
   "source": [
    "df_vaci.isnull().sum()"
   ]
  },
  {
   "cell_type": "code",
   "execution_count": 43,
   "id": "f1da888b",
   "metadata": {},
   "outputs": [
    {
     "data": {
      "text/plain": [
       "array([67., 70., 69., 64., 56., 68., 62., nan, 73., 65., 53., 54., 82.,\n",
       "       57., 52., 42., 77., 59., 66., 71., 34., 61., 38., 32., 55., 78.,\n",
       "       50., 47., 33., 58., 72., 43., 63., 81., 83., 88., 40., 39., 44.,\n",
       "       51., 45., 31., 75., 37., 35., 74., 60., 23., 79., 80., 49., 91.,\n",
       "       48., 36., 46., 28., 41., 26., 29., 76., 87., 27., 30., 25., 90.,\n",
       "       21., 24., 84., 18., 22., 89., 92., 86., 20., 85., 19.])"
      ]
     },
     "execution_count": 43,
     "metadata": {},
     "output_type": "execute_result"
    }
   ],
   "source": [
    "#Getting unique values for some columns \n",
    "df_vaci.Age.unique()"
   ]
  },
  {
   "cell_type": "code",
   "execution_count": 46,
   "id": "00790332",
   "metadata": {},
   "outputs": [
    {
     "name": "stdout",
     "output_type": "stream",
     "text": [
      "County_Density\n",
      "[137.8517954   38.75140638  18.10375235 ... 457.9161098  249.4741948\n",
      " 108.4740256 ]\n",
      "Vaccine_Trust_Index\n",
      "[ 0.          9.          8.66666699  4.          7.          9.66666699\n",
      "  5.33333349  6.         10.          8.33333301  8.          9.33333301\n",
      "  7.33333349  5.66666651  2.          3.66666675  6.33333349  4.33333349\n",
      "  4.66666651  7.66666651  1.33333337  2.33333325  3.          1.66666663\n",
      "  6.66666651  3.33333325  5.          1.          2.66666675  0.33333334\n",
      "  0.66666669  3.5         7.5         8.5         1.5         2.5       ]\n",
      "Personal_Responsibility\n",
      "[10.  5.  7.  6.  9.  4.  8.  1.  2.  3.  0. nan]\n",
      "Trust_Science_Apolitical\n",
      "[ 5.  8.  6. 10.  0.  1.  9.  2.  4.  7.  3. nan]\n",
      "Trust_Science_Politicians\n",
      "[ 5.  4.  1.  6.  0.  2.  9.  3.  8.  7. 10. nan]\n",
      "Trust_Science_Media\n",
      "[ 5.  6.  1.  4.  2.  0.  3. 10.  8.  9.  7. nan]\n",
      "Trust_Science_Community\n",
      "[ 5.  9.  6.  8. 10.  1.  3.  0.  7.  4.  2. nan]\n",
      "Trust_National\n",
      "[ 5.  8.  7.  6.  3.  1.  2.  9.  4.  0. 10. nan]\n",
      "Trust_State\n",
      "[ 5.  2.  7.  6.  4.  8.  9.  1.  0.  3. 10. nan]\n",
      "Trust_Local\n",
      "[ 5.  7.  9.  6.  8.  3.  0.  4. 10.  1.  2. nan]\n",
      "Trust_Media\n",
      "[ 5.  7.  1.  4.  0.  8.  6.  9.  3.  2. 10. nan]\n",
      "Perceived_Risk\n",
      "[ 0. 10.  9.  6.  8.  7.  5.  3.  4.  2.  1. nan]\n",
      "Perceived_Network_Risk\n",
      "[ 0.  9.  8.  3.  7. 10.  6.  4.  2.  5.  1. nan]\n",
      "Doctor_Comfort\n",
      "[ 8. 10.  7.  9.  1.  5.  4.  6.  2.  0.  3. nan]\n",
      "Fear_Needles\n",
      "[ 0.  6.  3.  2.  5.  1.  7. 10.  9.  4.  8. nan]\n",
      "Condition_Pregnancy\n",
      "[ 0. nan  1.]\n",
      "Condition_Asthma\n",
      "[ 0.  1. nan]\n",
      "Condition_Lung\n",
      "[ 0.  1. nan]\n",
      "Condition_Diabetes\n",
      "[ 0.  1. nan]\n",
      "Condition_Immune\n",
      "[ 0. nan  1.]\n",
      "Condition_Obesity\n",
      "[ 0.  1. nan]\n",
      "Condition_Heart\n",
      "[ 0.  1. nan]\n",
      "Condition_Organ\n",
      "[ 0. nan  1.]\n",
      "County_Cases\n",
      "[0.07874885 0.07131174 0.11929543 ... 0.08038738 0.07223813 0.09781624]\n",
      "County_Cases2wk\n",
      "[0.00225239 0.00243876 0.00228754 ... 0.00217161 0.00247311 0.00236574]\n",
      "Male\n",
      "[1 0]\n",
      "Race\n",
      "[1 2 4 3]\n",
      "Age\n",
      "[67. 70. 69. 64. 56. 68. 62. nan 73. 65. 53. 54. 82. 57. 52. 42. 77. 59.\n",
      " 66. 71. 34. 61. 38. 32. 55. 78. 50. 47. 33. 58. 72. 43. 63. 81. 83. 88.\n",
      " 40. 39. 44. 51. 45. 31. 75. 37. 35. 74. 60. 23. 79. 80. 49. 91. 48. 36.\n",
      " 46. 28. 41. 26. 29. 76. 87. 27. 30. 25. 90. 21. 24. 84. 18. 22. 89. 92.\n",
      " 86. 20. 85. 19.]\n",
      "PS_Index\n",
      "[0.5        0.33333334 0.16666667 0.66666669 0.83333331 0.\n",
      " 1.        ]\n",
      "Natural_Science_Literacy\n",
      "[0.66666669 0.83333331 1.         0.5        0.16666667 0.33333334\n",
      " 0.                nan]\n",
      "College_Degree\n",
      "[ 0.  1. nan]\n",
      "Pandemic_Impact\n",
      "[ 0.   4.5  5.5  6.   2.5  5.   3.   4.   9.5  9.   7.5  0.5  8.   6.5\n",
      "  3.5  7.   1.5  1.   2.   8.5 10.   nan]\n",
      "Pandemic_Impact_Network\n",
      "[ 0.   5.   6.   7.   2.5  4.   1.5  2.   4.5  5.5  9.   3.5  3.   6.5\n",
      "  7.5  8.5  8.  10.   1.   nan  0.5  9.5]\n",
      "Infected_Personal\n",
      "[ 0.  1. nan]\n",
      "Infected_Network\n",
      "[ 0.  1. nan]\n",
      "Biden\n",
      "['No' 'Yes' nan]\n",
      "Trump\n",
      "['Yes' 'No' nan]\n",
      "Party_ID\n",
      "['Republican' 'Democrat' 'Independent' 'Libertarian' nan 'Other party']\n",
      "Household_Income\n",
      "[ 1.  3.  6.  4. 12.  2.  7.  8. 11.  5.  9. 10. nan]\n",
      "Vaccine_Required\n",
      "[0 1]\n",
      "Evangelical\n",
      "[ 1.  0. nan]\n",
      "Vaccine_Hesitant\n",
      "[1 0]\n"
     ]
    }
   ],
   "source": [
    "#Printing unique values of each columns\n",
    "for col in df_vaci:\n",
    "    print(col)\n",
    "    print(df_vaci[col].unique())"
   ]
  },
  {
   "cell_type": "code",
   "execution_count": null,
   "id": "6bb4efed",
   "metadata": {},
   "outputs": [],
   "source": []
  },
  {
   "cell_type": "code",
   "execution_count": null,
   "id": "1d2bfd56",
   "metadata": {},
   "outputs": [],
   "source": []
  }
 ],
 "metadata": {
  "kernelspec": {
   "display_name": "Python 3 (ipykernel)",
   "language": "python",
   "name": "python3"
  },
  "language_info": {
   "codemirror_mode": {
    "name": "ipython",
    "version": 3
   },
   "file_extension": ".py",
   "mimetype": "text/x-python",
   "name": "python",
   "nbconvert_exporter": "python",
   "pygments_lexer": "ipython3",
   "version": "3.9.7"
  }
 },
 "nbformat": 4,
 "nbformat_minor": 5
}
