{
 "cells": [
  {
   "cell_type": "code",
   "execution_count": 3,
   "id": "09e3cc91",
   "metadata": {},
   "outputs": [
    {
     "name": "stdout",
     "output_type": "stream",
     "text": [
      "                   Rank                    CGA  Gold  Silver  Bronze  Total\n",
      "0                     1        Australia (AUS)  1001     832     763   2596\n",
      "1                     2          England (ENG)   773     783     766   2322\n",
      "2                     3           Canada (CAN)   510     548     589   1647\n",
      "3                     4            India (IND)   203     190     171    564\n",
      "4                     5      New Zealand (NZL)   179     232     295    706\n",
      "..                  ...                    ...   ...     ...     ...    ...\n",
      "60                   61   Norfolk Island (NFI)     0       0       2      2\n",
      "61                   62     Cook Islands (COK)     0       0       1      1\n",
      "62                   62             Niue (NIU)     0       0       1      1\n",
      "63                   62  Solomon Islands (SOL)     0       0       1      1\n",
      "64  Totals (64 entries)    Totals (64 entries)  3607    3601    3921  11129\n",
      "\n",
      "[65 rows x 6 columns]\n"
     ]
    }
   ],
   "source": [
    "# Choosen example of webscrapping as database and API needs personal token or password to run\n",
    "# Web scraping to import some data from website.\n",
    "\n",
    "# Importing required packages for web scrapping\n",
    "from bs4 import BeautifulSoup\n",
    "import requests \n",
    "import pandas as pd\n",
    "\n",
    "# Wikipedia URL\n",
    "web_url = 'https://en.wikipedia.org/wiki/All-time_Commonwealth_Games_medal_table'\n",
    "\n",
    "# get HTML we page\n",
    "html_page = requests.get(web_url)\n",
    "\n",
    "# display scrapped data\n",
    "# print(soup.prettify())\n",
    "\n",
    "web_status = html_page.status_code\n",
    "\n",
    "if web_status == 200:\n",
    "    # scrape webpage using beautifulsoup\n",
    "    soup = BeautifulSoup(html_page.content, \"html.parser\")\n",
    "    # Find medal table in html\n",
    "    medal_table = soup.find('table',{'class':'wikitable sortable plainrowheaders jquery-tablesorter'})\n",
    "    df=pd.read_html(str(medal_table))\n",
    "    # convert list to pandas dataframe\n",
    "    countries_medal_table=pd.DataFrame(df[0])\n",
    "    print(countries_medal_table)\n",
    "else:\n",
    "    print(\"Website URL is not accessible\")\n",
    "    print(f\"Web URL status response : {web_status}\")"
   ]
  },
  {
   "cell_type": "code",
   "execution_count": 4,
   "id": "19dbdaf5",
   "metadata": {},
   "outputs": [
    {
     "name": "stdout",
     "output_type": "stream",
     "text": [
      "List all failed transferred files\n"
     ]
    },
    {
     "data": {
      "text/plain": [
       "['project.txt', 'report.txt']"
      ]
     },
     "execution_count": 4,
     "metadata": {},
     "output_type": "execute_result"
    }
   ],
   "source": [
    "# Regex example\n",
    "\n",
    "# Importing required libraries\n",
    "import re\n",
    "\n",
    "pattern = r\"\\w+\\.txt(?=\\serror)\"\n",
    "\n",
    "test_log_string = \"Info.txt transferred, details.txt transferred, project.txt error,report.txt error\"\n",
    "\n",
    "print(\"List all failed transferred files\")\n",
    "re.findall(pattern, test_log_string)"
   ]
  },
  {
   "cell_type": "code",
   "execution_count": null,
   "id": "dd2993b0",
   "metadata": {},
   "outputs": [],
   "source": []
  }
 ],
 "metadata": {
  "kernelspec": {
   "display_name": "Python 3 (ipykernel)",
   "language": "python",
   "name": "python3"
  },
  "language_info": {
   "codemirror_mode": {
    "name": "ipython",
    "version": 3
   },
   "file_extension": ".py",
   "mimetype": "text/x-python",
   "name": "python",
   "nbconvert_exporter": "python",
   "pygments_lexer": "ipython3",
   "version": "3.9.7"
  }
 },
 "nbformat": 4,
 "nbformat_minor": 5
}
